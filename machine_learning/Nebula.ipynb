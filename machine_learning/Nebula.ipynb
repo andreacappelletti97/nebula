{
 "cells": [
  {
   "cell_type": "code",
   "execution_count": 1,
   "id": "7982dd3b-f9d9-4ac2-a81e-af21ebf8da0a",
   "metadata": {},
   "outputs": [
    {
     "name": "stdout",
     "output_type": "stream",
     "text": [
      "Collecting prometheus-api-client\n",
      "  Using cached prometheus_api_client-0.5.0-py3-none-any.whl (24 kB)\n",
      "Collecting dateparser\n",
      "  Using cached dateparser-1.1.1-py2.py3-none-any.whl (288 kB)\n",
      "Requirement already satisfied: pandas>=1.0.0 in ./opt/anaconda3/lib/python3.9/site-packages (from prometheus-api-client) (1.4.2)\n",
      "Requirement already satisfied: requests in ./opt/anaconda3/lib/python3.9/site-packages (from prometheus-api-client) (2.27.1)\n",
      "Requirement already satisfied: numpy in ./opt/anaconda3/lib/python3.9/site-packages (from prometheus-api-client) (1.21.5)\n",
      "Requirement already satisfied: python-dateutil>=2.8.1 in ./opt/anaconda3/lib/python3.9/site-packages (from pandas>=1.0.0->prometheus-api-client) (2.8.2)\n",
      "Requirement already satisfied: pytz>=2020.1 in ./opt/anaconda3/lib/python3.9/site-packages (from pandas>=1.0.0->prometheus-api-client) (2021.3)\n",
      "Requirement already satisfied: six>=1.5 in ./opt/anaconda3/lib/python3.9/site-packages (from python-dateutil>=2.8.1->pandas>=1.0.0->prometheus-api-client) (1.16.0)\n",
      "Collecting regex!=2019.02.19,!=2021.8.27,<2022.3.15\n",
      "  Downloading regex-2022.3.2-cp39-cp39-macosx_10_9_x86_64.whl (288 kB)\n",
      "\u001b[K     |████████████████████████████████| 288 kB 3.2 MB/s eta 0:00:01\n",
      "\u001b[?25hCollecting tzlocal\n",
      "  Using cached tzlocal-4.2-py3-none-any.whl (19 kB)\n",
      "Requirement already satisfied: idna<4,>=2.5 in ./opt/anaconda3/lib/python3.9/site-packages (from requests->prometheus-api-client) (3.3)\n",
      "Requirement already satisfied: urllib3<1.27,>=1.21.1 in ./opt/anaconda3/lib/python3.9/site-packages (from requests->prometheus-api-client) (1.26.9)\n",
      "Requirement already satisfied: certifi>=2017.4.17 in ./opt/anaconda3/lib/python3.9/site-packages (from requests->prometheus-api-client) (2021.10.8)\n",
      "Requirement already satisfied: charset-normalizer~=2.0.0 in ./opt/anaconda3/lib/python3.9/site-packages (from requests->prometheus-api-client) (2.0.4)\n",
      "Collecting pytz-deprecation-shim\n",
      "  Using cached pytz_deprecation_shim-0.1.0.post0-py2.py3-none-any.whl (15 kB)\n",
      "Collecting tzdata\n",
      "  Using cached tzdata-2022.1-py2.py3-none-any.whl (339 kB)\n",
      "Installing collected packages: tzdata, pytz-deprecation-shim, tzlocal, regex, dateparser, prometheus-api-client\n",
      "  Attempting uninstall: regex\n",
      "    Found existing installation: regex 2022.3.15\n",
      "    Uninstalling regex-2022.3.15:\n",
      "      Successfully uninstalled regex-2022.3.15\n",
      "Successfully installed dateparser-1.1.1 prometheus-api-client-0.5.0 pytz-deprecation-shim-0.1.0.post0 regex-2022.3.2 tzdata-2022.1 tzlocal-4.2\n"
     ]
    }
   ],
   "source": [
    "!pip install prometheus-api-client"
   ]
  },
  {
   "cell_type": "code",
   "execution_count": 2,
   "id": "e6ad8ccb-7681-4c42-8606-76ee7850b293",
   "metadata": {},
   "outputs": [],
   "source": [
    "from prometheus_api_client import PrometheusConnect\n",
    "prom = PrometheusConnect(url =\"http://127.0.0.1:9090\", disable_ssl=True)"
   ]
  },
  {
   "cell_type": "code",
   "execution_count": 3,
   "id": "5b18aebb-0c82-4808-94b4-ce91a97f0d1b",
   "metadata": {},
   "outputs": [
    {
     "data": {
      "text/plain": [
       "['akka_actor_actor_failure',\n",
       " 'akka_actor_dead_letter',\n",
       " 'akka_actor_dropped_messages',\n",
       " 'akka_actor_log_error',\n",
       " 'akka_actor_log_warning',\n",
       " 'akka_actor_mailbox_size',\n",
       " 'akka_actor_mailbox_size_count',\n",
       " 'akka_actor_mailbox_size_limit',\n",
       " 'akka_actor_mailbox_size_max',\n",
       " 'akka_actor_mailbox_size_min',\n",
       " 'akka_actor_mailbox_size_sum',\n",
       " 'akka_actor_mailbox_time_limit',\n",
       " 'akka_actor_mailbox_time_ns',\n",
       " 'akka_actor_mailbox_time_ns_count',\n",
       " 'akka_actor_mailbox_time_ns_max',\n",
       " 'akka_actor_mailbox_time_ns_min',\n",
       " 'akka_actor_mailbox_time_ns_sum',\n",
       " 'akka_actor_processing_time_limit',\n",
       " 'akka_actor_remote_large_message_received',\n",
       " 'akka_actor_remote_large_message_sent',\n",
       " 'akka_actor_running_actors',\n",
       " 'akka_actor_stash_size',\n",
       " 'akka_actor_stash_size_count',\n",
       " 'akka_actor_stash_size_limit',\n",
       " 'akka_actor_stash_size_max',\n",
       " 'akka_actor_stash_size_min',\n",
       " 'akka_actor_stash_size_sum',\n",
       " 'akka_actor_unhandled_message',\n",
       " 'akka_dispatcher_active_threads',\n",
       " 'akka_dispatcher_parallelism',\n",
       " 'akka_dispatcher_pool_size',\n",
       " 'akka_dispatcher_processing',\n",
       " 'akka_dispatcher_processing_time_ns',\n",
       " 'akka_dispatcher_processing_time_ns_count',\n",
       " 'akka_dispatcher_processing_time_ns_max',\n",
       " 'akka_dispatcher_processing_time_ns_min',\n",
       " 'akka_dispatcher_processing_time_ns_sum',\n",
       " 'akka_dispatcher_queue_size',\n",
       " 'akka_dispatcher_queue_time_ns',\n",
       " 'akka_dispatcher_queue_time_ns_count',\n",
       " 'akka_dispatcher_queue_time_ns_max',\n",
       " 'akka_dispatcher_queue_time_ns_min',\n",
       " 'akka_dispatcher_queue_time_ns_sum',\n",
       " 'akka_dispatcher_queued_tasks',\n",
       " 'akka_dispatcher_running_threads',\n",
       " 'akka_message_processed_messages',\n",
       " 'akka_message_processing_time_ns',\n",
       " 'akka_message_processing_time_ns_count',\n",
       " 'akka_message_processing_time_ns_max',\n",
       " 'akka_message_processing_time_ns_min',\n",
       " 'akka_message_processing_time_ns_sum',\n",
       " 'akka_message_remote_deserialization_time_ns',\n",
       " 'akka_message_remote_deserialization_time_ns_count',\n",
       " 'akka_message_remote_deserialization_time_ns_max',\n",
       " 'akka_message_remote_deserialization_time_ns_min',\n",
       " 'akka_message_remote_deserialization_time_ns_sum',\n",
       " 'akka_message_remote_received_message_size',\n",
       " 'akka_message_remote_received_message_size_count',\n",
       " 'akka_message_remote_received_message_size_max',\n",
       " 'akka_message_remote_received_message_size_min',\n",
       " 'akka_message_remote_received_message_size_sum',\n",
       " 'akka_message_remote_received_messages',\n",
       " 'akka_message_remote_sent_message_size',\n",
       " 'akka_message_remote_sent_message_size_count',\n",
       " 'akka_message_remote_sent_message_size_max',\n",
       " 'akka_message_remote_sent_message_size_min',\n",
       " 'akka_message_remote_sent_message_size_sum',\n",
       " 'akka_message_remote_sent_messages',\n",
       " 'akka_message_remote_serialization_time_ns',\n",
       " 'akka_message_remote_serialization_time_ns_count',\n",
       " 'akka_message_remote_serialization_time_ns_max',\n",
       " 'akka_message_remote_serialization_time_ns_min',\n",
       " 'akka_message_remote_serialization_time_ns_sum',\n",
       " 'akka_message_sent_messages',\n",
       " 'cinnamon_versions',\n",
       " 'jvm_PS_MarkSweep_count',\n",
       " 'jvm_PS_MarkSweep_time',\n",
       " 'jvm_PS_Scavenge_count',\n",
       " 'jvm_PS_Scavenge_time',\n",
       " 'jvm_heap_committed',\n",
       " 'jvm_heap_init',\n",
       " 'jvm_heap_max',\n",
       " 'jvm_heap_used',\n",
       " 'jvm_loaded',\n",
       " 'jvm_non_heap_committed',\n",
       " 'jvm_non_heap_init',\n",
       " 'jvm_non_heap_max',\n",
       " 'jvm_non_heap_used',\n",
       " 'jvm_pools_Code_Cache_committed',\n",
       " 'jvm_pools_Code_Cache_init',\n",
       " 'jvm_pools_Code_Cache_max',\n",
       " 'jvm_pools_Code_Cache_usage',\n",
       " 'jvm_pools_Code_Cache_used',\n",
       " 'jvm_pools_Compressed_Class_Space_committed',\n",
       " 'jvm_pools_Compressed_Class_Space_init',\n",
       " 'jvm_pools_Compressed_Class_Space_max',\n",
       " 'jvm_pools_Compressed_Class_Space_usage',\n",
       " 'jvm_pools_Compressed_Class_Space_used',\n",
       " 'jvm_pools_Metaspace_committed',\n",
       " 'jvm_pools_Metaspace_init',\n",
       " 'jvm_pools_Metaspace_max',\n",
       " 'jvm_pools_Metaspace_usage',\n",
       " 'jvm_pools_Metaspace_used',\n",
       " 'jvm_pools_PS_Eden_Space_committed',\n",
       " 'jvm_pools_PS_Eden_Space_init',\n",
       " 'jvm_pools_PS_Eden_Space_max',\n",
       " 'jvm_pools_PS_Eden_Space_usage',\n",
       " 'jvm_pools_PS_Eden_Space_used',\n",
       " 'jvm_pools_PS_Old_Gen_committed',\n",
       " 'jvm_pools_PS_Old_Gen_init',\n",
       " 'jvm_pools_PS_Old_Gen_max',\n",
       " 'jvm_pools_PS_Old_Gen_usage',\n",
       " 'jvm_pools_PS_Old_Gen_used',\n",
       " 'jvm_pools_PS_Survivor_Space_committed',\n",
       " 'jvm_pools_PS_Survivor_Space_init',\n",
       " 'jvm_pools_PS_Survivor_Space_max',\n",
       " 'jvm_pools_PS_Survivor_Space_usage',\n",
       " 'jvm_pools_PS_Survivor_Space_used',\n",
       " 'jvm_total_committed',\n",
       " 'jvm_total_init',\n",
       " 'jvm_total_max',\n",
       " 'jvm_total_used',\n",
       " 'jvm_unloaded',\n",
       " 'scrape_duration_seconds',\n",
       " 'scrape_samples_post_metric_relabeling',\n",
       " 'scrape_samples_scraped',\n",
       " 'up']"
      ]
     },
     "execution_count": 3,
     "metadata": {},
     "output_type": "execute_result"
    }
   ],
   "source": [
    "# Get the list of all the metrics that the Prometheus host scrapes\n",
    "prom.all_metrics()"
   ]
  },
  {
   "cell_type": "code",
   "execution_count": 12,
   "id": "6fddd477-f896-4c07-a37b-2feed3fb30cf",
   "metadata": {},
   "outputs": [
    {
     "data": {
      "text/plain": [
       "[{'metric': {'__name__': 'up',\n",
       "   'instance': 'host.docker.internal:9001',\n",
       "   'job': 'cinnamon'},\n",
       "  'value': [1654459543.551, '0']}]"
      ]
     },
     "execution_count": 12,
     "metadata": {},
     "output_type": "execute_result"
    }
   ],
   "source": [
    "# Here, we are fetching the values of a particular metric name\n",
    "prom.custom_query(query=\"up\")"
   ]
  },
  {
   "cell_type": "code",
   "execution_count": 13,
   "id": "7b4d1bf0-f00d-4473-a4bd-19f39c627260",
   "metadata": {},
   "outputs": [],
   "source": [
    "# Import the required datetime functions\n",
    "from prometheus_api_client.utils import parse_datetime\n",
    "from datetime import timedelta"
   ]
  },
  {
   "cell_type": "code",
   "execution_count": 14,
   "id": "9e3f6e06-54fd-45d7-a22b-6703b799dfc0",
   "metadata": {},
   "outputs": [],
   "source": [
    "start_time = parse_datetime(\"2d\")\n",
    "end_time = parse_datetime(\"now\")\n",
    "chunk_size = timedelta(days=1)"
   ]
  },
  {
   "cell_type": "code",
   "execution_count": 20,
   "id": "8890be8a-ebad-4d6c-b95f-eb1b48b4b99b",
   "metadata": {},
   "outputs": [],
   "source": [
    "metric_data = prom.get_metric_range_data(\n",
    "    \"up\",  # this is the metric name and label config\n",
    "    start_time=start_time,\n",
    "    end_time=end_time,\n",
    "    chunk_size=chunk_size,\n",
    ")"
   ]
  },
  {
   "cell_type": "code",
   "execution_count": 21,
   "id": "0d585508-2bfc-4092-b6a9-7fc8637f63ae",
   "metadata": {},
   "outputs": [
    {
     "data": {
      "text/plain": [
       "[{'metric': {'__name__': 'up',\n",
       "   'instance': 'host.docker.internal:9001',\n",
       "   'job': 'cinnamon'},\n",
       "  'values': [[1654459374.36, '0'],\n",
       "   [1654459384.34, '0'],\n",
       "   [1654459394.342, '0'],\n",
       "   [1654459404.34, '0'],\n",
       "   [1654459414.319, '0'],\n",
       "   [1654459424.321, '0'],\n",
       "   [1654459434.318, '0'],\n",
       "   [1654459444.301, '0'],\n",
       "   [1654459454.3, '0'],\n",
       "   [1654459464.299, '0'],\n",
       "   [1654459474.274, '0'],\n",
       "   [1654459484.274, '0'],\n",
       "   [1654459494.277, '0'],\n",
       "   [1654459504.254, '0'],\n",
       "   [1654459514.252, '0'],\n",
       "   [1654459524.255, '0'],\n",
       "   [1654459534.171, '0'],\n",
       "   [1654459544.173, '0'],\n",
       "   [1654459554.173, '0'],\n",
       "   [1654459564.151, '0'],\n",
       "   [1654459574.145, '0'],\n",
       "   [1654459584.145, '0']]}]"
      ]
     },
     "execution_count": 21,
     "metadata": {},
     "output_type": "execute_result"
    }
   ],
   "source": [
    "metric_data"
   ]
  },
  {
   "cell_type": "code",
   "execution_count": 22,
   "id": "44155fa0-7ba7-4397-8a6a-56b8bd751b87",
   "metadata": {},
   "outputs": [
    {
     "data": {
      "text/html": [
       "<div>\n",
       "<style scoped>\n",
       "    .dataframe tbody tr th:only-of-type {\n",
       "        vertical-align: middle;\n",
       "    }\n",
       "\n",
       "    .dataframe tbody tr th {\n",
       "        vertical-align: top;\n",
       "    }\n",
       "\n",
       "    .dataframe thead th {\n",
       "        text-align: right;\n",
       "    }\n",
       "</style>\n",
       "<table border=\"1\" class=\"dataframe\">\n",
       "  <thead>\n",
       "    <tr style=\"text-align: right;\">\n",
       "      <th></th>\n",
       "      <th>__name__</th>\n",
       "      <th>instance</th>\n",
       "      <th>job</th>\n",
       "      <th>timestamp</th>\n",
       "      <th>value</th>\n",
       "    </tr>\n",
       "  </thead>\n",
       "  <tbody>\n",
       "    <tr>\n",
       "      <th>0</th>\n",
       "      <td>up</td>\n",
       "      <td>host.docker.internal:9001</td>\n",
       "      <td>cinnamon</td>\n",
       "      <td>1.654460e+09</td>\n",
       "      <td>0</td>\n",
       "    </tr>\n",
       "  </tbody>\n",
       "</table>\n",
       "</div>"
      ],
      "text/plain": [
       "  __name__                   instance       job     timestamp value\n",
       "0       up  host.docker.internal:9001  cinnamon  1.654460e+09     0"
      ]
     },
     "execution_count": 22,
     "metadata": {},
     "output_type": "execute_result"
    }
   ],
   "source": [
    "metric_df = MetricSnapshotDataFrame(metric_data)\n",
    "metric_df.head()"
   ]
  },
  {
   "cell_type": "code",
   "execution_count": null,
   "id": "063eb903-1628-46ee-b31c-1b2755f1a617",
   "metadata": {},
   "outputs": [],
   "source": []
  }
 ],
 "metadata": {
  "kernelspec": {
   "display_name": "Python 3 (ipykernel)",
   "language": "python",
   "name": "python3"
  },
  "language_info": {
   "codemirror_mode": {
    "name": "ipython",
    "version": 3
   },
   "file_extension": ".py",
   "mimetype": "text/x-python",
   "name": "python",
   "nbconvert_exporter": "python",
   "pygments_lexer": "ipython3",
   "version": "3.9.12"
  }
 },
 "nbformat": 4,
 "nbformat_minor": 5
}
